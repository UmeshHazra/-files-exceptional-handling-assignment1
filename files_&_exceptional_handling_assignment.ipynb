{
  "nbformat": 4,
  "nbformat_minor": 0,
  "metadata": {
    "colab": {
      "provenance": []
    },
    "kernelspec": {
      "name": "python3",
      "display_name": "Python 3"
    },
    "language_info": {
      "name": "python"
    }
  },
  "cells": [
    {
      "cell_type": "markdown",
      "source": [
        "**1. What is the difference between interpreted and compiled languages?**\n",
        "\n",
        "ANS:- The main difference between interpreted and compiled languages lies in how the source code is translated into machine code:\n",
        "\n",
        "\n",
        "**Compiled Languages**\n",
        "\n",
        "\n",
        "Process: The entire source code is translated at once into machine code by a compiler.\n",
        "\n",
        "Execution: The resulting executable file runs directly on the hardware, without needing the original source code.\n",
        "\n",
        "Speed: Typically faster at runtime, since the translation has already been done.\n",
        "\n",
        "Examples: C, C++, Rust, Go\n",
        "\n",
        "**Interpreted Languages**\n",
        "\n",
        "\n",
        "Process: The source code is translated line-by-line or statement-by-statement by an interpreter during execution.\n",
        "\n",
        "Execution: Requires the interpreter to run the program.\n",
        "\n",
        "Speed: Generally slower because interpretation happens at runtime.\n",
        "\n",
        "Examples: Python, JavaScript, Ruby, PHP"
      ],
      "metadata": {
        "id": "KINWUUiw-ouX"
      }
    },
    {
      "cell_type": "markdown",
      "source": [
        "**2. What is exception handling in Python?**\n",
        "\n",
        "ANS:- Exception handling in Python is a mechanism that lets you gracefully handle errors or exceptional events that occur during program execution, instead of crashing the program.\n",
        "\n",
        "**use of exception handling**\n",
        "\n",
        "Prevent program crashes.\n",
        "\n",
        "Handle specific error cases (e.g., division by zero, file not found).\n",
        "\n",
        "Provide user-friendly error messages or fallback logic."
      ],
      "metadata": {
        "id": "8so6X9R6AyIZ"
      }
    },
    {
      "cell_type": "code",
      "source": [
        "try:\n",
        "    num = int(input(\"Enter a number: \"))\n",
        "    print(10 / num)\n",
        "except ValueError:\n",
        "    print(\"Invalid input. Please enter a number.\")\n",
        "except ZeroDivisionError:\n",
        "    print(\"Cannot divide by zero.\")\n",
        "finally:\n",
        "    print(\"Done.\")\n"
      ],
      "metadata": {
        "colab": {
          "base_uri": "https://localhost:8080/"
        },
        "id": "2bvtqf5CBPkU",
        "outputId": "4a2cea01-9cb1-4e5a-9ae1-dc20a8700130"
      },
      "execution_count": null,
      "outputs": [
        {
          "output_type": "stream",
          "name": "stdout",
          "text": [
            "Enter a number: 5\n",
            "2.0\n",
            "Done.\n"
          ]
        }
      ]
    },
    {
      "cell_type": "markdown",
      "source": [
        "**3.What is the purpose of the finally block in exception handling?**\n",
        "\n",
        "ANS:- The finally block in Python's exception handling is used to define clean-up actions that must be executed no matter what happens—whether an exception occurs or not.\n",
        "\n",
        "**Purpose of finally:**\n",
        "To ensure that important cleanup code always runs, such as:\n",
        "\n",
        "Closing files or network connections.\n",
        "\n",
        "Releasing resources (e.g., memory, locks).\n",
        "\n",
        "Logging or saving final states."
      ],
      "metadata": {
        "id": "EGy2HUCEBX36"
      }
    },
    {
      "cell_type": "code",
      "source": [
        "f = None\n",
        "try:\n",
        "    f = open(\"example.txt\", \"r\")\n",
        "    content = f.read()\n",
        "    print(content)\n",
        "except FileNotFoundError:\n",
        "    print(\"File not found.\")\n",
        "finally:\n",
        "    if f:\n",
        "        print(\"Closing the file.\")\n",
        "        f.close()\n"
      ],
      "metadata": {
        "colab": {
          "base_uri": "https://localhost:8080/"
        },
        "id": "paVzz54cB2C_",
        "outputId": "9a19cbc5-1b54-4774-bf80-80f591ca285f"
      },
      "execution_count": null,
      "outputs": [
        {
          "output_type": "stream",
          "name": "stdout",
          "text": [
            "File not found.\n"
          ]
        }
      ]
    },
    {
      "cell_type": "markdown",
      "source": [
        "**4.What is logging in Python?**\n",
        "\n",
        "ANS:- Logging in Python is the process of recording events that happen during a program’s execution, which is useful for:\n",
        "\n",
        "**Debugging**\n",
        "\n",
        "**Monitoring**\n",
        "\n",
        "**Error tracking**\n",
        "\n",
        "**Auditing user actions or system behavior**\n",
        "\n",
        "Instead of using print() for diagnostics, the logging module provides a flexible way to log messages with different severity levels.\n",
        "\n",
        " **Basic Logging Example:**"
      ],
      "metadata": {
        "id": "GlQKs6BvCKqL"
      }
    },
    {
      "cell_type": "code",
      "source": [
        "import logging\n",
        "\n",
        "logging.basicConfig(level=logging.INFO)\n",
        "logging.info(\"This is an info message.\")\n"
      ],
      "metadata": {
        "id": "Mwsa6H_EHKGi"
      },
      "execution_count": null,
      "outputs": []
    },
    {
      "cell_type": "markdown",
      "source": [
        "**Logging Levels:**\n",
        "\n",
        "\n",
        "From lowest to highest severity:\n",
        "\n",
        "**DEBUG**: Detailed information, typically for developers.\n",
        "\n",
        "**INFO**: General information about program execution.\n",
        "\n",
        "**WARNING**: Something unexpected, but the program still runs.\n",
        "\n",
        "**ERROR**: A serious problem—something went wrong.\n",
        "\n",
        "**CRITICAL**: A very serious error—the program may not be able to continue."
      ],
      "metadata": {
        "id": "rU1FMoyiHRux"
      }
    },
    {
      "cell_type": "markdown",
      "source": [
        "**5. What is the significance of the __del__ method in Python?**\n",
        "\n",
        "ANS:- The __del__ method in Python is a special (magic) method called a destructor. It is automatically invoked when an object is about to be destroyed, typically when there are no more references to it.\n",
        "\n",
        "**Purpose of __del__**:\n",
        "To define cleanup behavior when an object is garbage collected.\n",
        "\n",
        "Common use cases:\n",
        "\n",
        "Closing files or network connections.\n",
        "\n",
        "Releasing external resources (like memory, database connections, etc.).\n",
        "\n"
      ],
      "metadata": {
        "id": "_MnRR9Z_Ha2D"
      }
    },
    {
      "cell_type": "code",
      "source": [
        "class FileHandler:\n",
        "    def __init__(self, filename):\n",
        "        self.file = open(filename, 'r')\n",
        "        print(\"File opened.\")\n",
        "\n",
        "    def __del__(self):\n",
        "        self.file.close()\n",
        "        print(\"File closed automatically when object is destroyed.\")\n",
        "\n",
        "handler = FileHandler(\"example.txt\")\n"
      ],
      "metadata": {
        "id": "Z-pK4CL8IRZL"
      },
      "execution_count": null,
      "outputs": []
    },
    {
      "cell_type": "markdown",
      "source": [
        "**6. What is the difference between import and from ... import in Python?**\n",
        "\n",
        "ANS:- The difference between import and from ... import in Python lies in how you access the imported module or its components.\n",
        "\n",
        "| Feature           | `import math`                  | `from math import sqrt`            |\n",
        "| ----------------- | ------------------------------ | ---------------------------------- |\n",
        "| What is imported  | Entire module                  | Only `sqrt` function               |\n",
        "| Usage             | `math.sqrt(16)`                | `sqrt(16)`                         |\n",
        "| Readability       | Clearer where it came from     | More concise                       |\n",
        "| Risk of conflicts | Low (less namespace pollution) | Higher (if multiple names overlap) |\n"
      ],
      "metadata": {
        "id": "lhlFsynSIWK2"
      }
    },
    {
      "cell_type": "markdown",
      "source": [
        "**7. How can you handle multiple exceptions in Python?**\n",
        "\n",
        "ANS:- **1. Multiple except Blocks**\n",
        "\n",
        "Handle different exception types separately."
      ],
      "metadata": {
        "id": "MLOExmkBJywr"
      }
    },
    {
      "cell_type": "code",
      "source": [
        "try:\n",
        "    x = int(input(\"Enter a number: \"))\n",
        "    result = 10 / x\n",
        "except ValueError:\n",
        "    print(\"Invalid input. Please enter a number.\")\n",
        "except ZeroDivisionError:\n",
        "    print(\"Cannot divide by zero.\")\n"
      ],
      "metadata": {
        "colab": {
          "base_uri": "https://localhost:8080/"
        },
        "id": "VytK01bdKYeI",
        "outputId": "384942bb-a769-4456-c499-8bda9ddeb3b7"
      },
      "execution_count": null,
      "outputs": [
        {
          "output_type": "stream",
          "name": "stdout",
          "text": [
            "Enter a number: 0\n",
            "Cannot divide by zero.\n"
          ]
        }
      ]
    },
    {
      "cell_type": "markdown",
      "source": [
        "**2. Single except Block for Multiple Exceptions**\n",
        "\n",
        "Use a tuple to catch multiple exceptions with the same response."
      ],
      "metadata": {
        "id": "wJIitoyTKesN"
      }
    },
    {
      "cell_type": "code",
      "source": [
        "try:\n",
        "    x = int(input(\"Enter a number: \"))\n",
        "    result = 10 / x\n",
        "except (ValueError, ZeroDivisionError):\n",
        "    print(\"Either invalid input or division by zero.\")\n"
      ],
      "metadata": {
        "colab": {
          "base_uri": "https://localhost:8080/"
        },
        "id": "S06rZ63eKktz",
        "outputId": "89edd3fe-c6a6-4300-e52e-cdf6434c8111"
      },
      "execution_count": null,
      "outputs": [
        {
          "output_type": "stream",
          "name": "stdout",
          "text": [
            "Enter a number: 0\n",
            "Either invalid input or division by zero.\n"
          ]
        }
      ]
    },
    {
      "cell_type": "markdown",
      "source": [
        "**3. Generic except Block**\n",
        "\n",
        "Catches any exception (not recommended unless absolutely necessary)."
      ],
      "metadata": {
        "id": "Vw4M2uTLKef0"
      }
    },
    {
      "cell_type": "code",
      "source": [
        "try:\n",
        "    # risky operation\n",
        "    pass\n",
        "except Exception as e:\n",
        "    print(\"An error occurred:\", e)\n"
      ],
      "metadata": {
        "id": "ikNqb5YGKr2i"
      },
      "execution_count": null,
      "outputs": []
    },
    {
      "cell_type": "markdown",
      "source": [
        "**8. What is the purpose of the with statement when handling files in Python?**\n",
        "\n",
        "ANS:- The with statement in Python is used when working with files (and other resources) to ensure they are properly managed, particularly that they are automatically closed, even if an error occurs during processing.\n",
        "\n",
        "**Purpose of the with Statement:**\n",
        "\n",
        "Automatically opens and closes a file.\n",
        "\n",
        "Makes the code cleaner, safer, and less error-prone.\n",
        "\n",
        "Helps manage resources efficiently without needing an explicit try...finally block."
      ],
      "metadata": {
        "id": "ldpmo9fNKy1e"
      }
    },
    {
      "cell_type": "code",
      "source": [
        "with open(\"example.txt\", \"r\") as f:\n",
        "    content = f.read()\n",
        "    print(content)\n",
        "# File is automatically closed here, even if an error occurs\n"
      ],
      "metadata": {
        "id": "ZplkP9m4LYiD"
      },
      "execution_count": null,
      "outputs": []
    },
    {
      "cell_type": "markdown",
      "source": [
        "**9. What is the difference between multithreading and multiprocessing?**\n",
        "\n",
        "ANS:- The main difference between multithreading and multiprocessing lies in how they handle concurrent execution and utilize system resources:\n",
        "\n",
        "| Feature         | Multithreading                  | Multiprocessing                |\n",
        "| --------------- | ------------------------------- | ------------------------------ |\n",
        "| Execution Model | Multiple threads in one process | Multiple independent processes |\n",
        "| Memory Sharing  | Shared memory                   | Separate memory                |\n",
        "| Overhead        | Lower                           | Higher                         |\n",
        "| Best For        | I/O-bound tasks                 | CPU-bound tasks                |\n",
        "| GIL Affected?   | Yes                             | No                             |\n"
      ],
      "metadata": {
        "id": "JPPCAj6XLZO1"
      }
    },
    {
      "cell_type": "markdown",
      "source": [
        "**10. What are the advantages of using logging in a program?**\n",
        "\n",
        "ANS:- Using logging in a program offers several key advantages, particularly for maintaining, debugging, and monitoring the application. Here are some of the main benefits:\n",
        "\n",
        "**1. Better Debugging**\n",
        "\n",
        "Logs help track the flow of a program, making it easier to debug issues, especially when the program is running in a production environment where interactive debugging (like using a debugger) isn't feasible.\n",
        "\n",
        "Logs provide context about errors, such as what inputs were used and what operations were performed before an issue occurred.\n",
        "\n",
        "\n",
        "**2. Monitoring and Maintenance**\n",
        "\n",
        "Logging provides valuable insights into runtime behavior and performance metrics, such as the number of users, system resource usage, or processing times.\n",
        "\n",
        "Logs are especially helpful for tracking long-running applications (like web servers, batch jobs, etc.) where you need a historical record of actions for troubleshooting or auditing.\n",
        "\n",
        "\n",
        "**3. Non-Intrusive Error Reporting**\n",
        "\n",
        "Unlike print() statements, logs can be written to files or external systems, allowing you to capture errors without interrupting program flow or affecting user experience.\n",
        "\n",
        "Log levels (like ERROR, WARNING, INFO) help categorize the severity and importance of issues, making it easy to filter and prioritize.\n",
        "\n",
        "**4. Persistent Records**\n",
        "\n",
        "Logs can be stored persistently (in files, databases, or external logging services), providing a historical record of actions, errors, and system status over time.\n",
        "\n",
        "This helps with auditing, forensics, and compliance in applications that require detailed logs for regulatory reasons.\n",
        "\n",
        "**5. Configurable and Flexible**\n",
        "\n",
        "You can configure logging to write to different outputs (e.g., console, file, remote server), and adjust the log level (e.g., DEBUG, INFO, ERROR) to control the verbosity of the log output.\n",
        "\n",
        "You can even log to different loggers, allowing for different parts of the system to have their own logging configurations."
      ],
      "metadata": {
        "id": "dVEtY06ZL0eT"
      }
    },
    {
      "cell_type": "markdown",
      "source": [
        "**11.What is memory management in Python?**\n",
        "\n",
        "ANS:-  Memory management in Python refers to the process of handling the allocation, use, and release of memory in a Python program. Python provides automatic memory management, which means developers don’t have to manually allocate and free memory as in languages like C or C++.\n",
        "\n",
        "**Key Components of Memory Management in Python:**\n",
        "\n",
        "\n",
        "**Reference Counting:**\n",
        "\n",
        "Every object in Python has a reference count — a count of how many references point to the object.\n",
        "\n",
        "When the reference count drops to zero (i.e., no references exist), the memory is automatically deallocated.\n",
        "\n",
        "Garbage Collection:\n",
        "**bold text**\n",
        "Python uses a garbage collector to detect and collect cyclic references (objects referencing each other in a loop), which reference counting alone cannot handle.\n",
        "\n",
        "The gc module in Python provides an interface to the garbage collector.\n",
        "\n",
        "**Memory Pooling (via PyMalloc):**\n",
        "\n",
        "Python uses an internal memory manager (PyMalloc) to manage memory more efficiently, especially for small objects.\n",
        "\n",
        "This reduces the overhead of requesting memory from the operating system.\n",
        "\n",
        "**Dynamic Typing and Memory Use:**\n",
        "\n",
        "Python variables are references to objects, not the actual data.\n",
        "\n",
        "This dynamic typing and object referencing model means memory use can vary widely at runtime.\n",
        "\n",
        "**Built-in Functions and Modules:**\n",
        "\n",
        "id() returns the memory address of an object.\n",
        "\n",
        "sys.getsizeof() can be used to find the memory size of an object.\n",
        "\n",
        "gc.collect() can manually trigger garbage collection."
      ],
      "metadata": {
        "id": "7tRRBXJKMjer"
      }
    },
    {
      "cell_type": "markdown",
      "source": [
        "**12. What are the basic steps involved in exception handling in Python?**\n",
        "\n",
        "ANS:- The basic steps involved in exception handling in Python revolve around using specific keywords to catch and manage errors that occur during program execution. Here's a clear breakdown:\n",
        "\n",
        "\n",
        "\n",
        "**1. Try Block**\n",
        "\n",
        "we write code that might raise an exception inside a try block."
      ],
      "metadata": {
        "id": "xodzkw7t1hhx"
      }
    },
    {
      "cell_type": "code",
      "source": [
        "try:\n",
        "    # risky code\n",
        "    result = 10 / 0\n"
      ],
      "metadata": {
        "id": "XUsY-wPd29M3"
      },
      "execution_count": null,
      "outputs": []
    },
    {
      "cell_type": "markdown",
      "source": [
        "**2. Except Block**\n",
        "\n",
        "If an exception occurs, control jumps to the except block. You can catch specific exceptions or general ones."
      ],
      "metadata": {
        "id": "SecGKdDQ2_uz"
      }
    },
    {
      "cell_type": "code",
      "source": [
        "except ZeroDivisionError:\n",
        "    print(\"You can't divide by zero!\")\n"
      ],
      "metadata": {
        "id": "By7k8ByA3Gaf"
      },
      "execution_count": null,
      "outputs": []
    },
    {
      "cell_type": "markdown",
      "source": [
        "**3. Else Block (Optional)**\n",
        "\n",
        "This runs if no exception was raised in the try block."
      ],
      "metadata": {
        "id": "I9VVjgrf3HO9"
      }
    },
    {
      "cell_type": "code",
      "source": [
        "else:\n",
        "    print(\"Division successful!\")\n"
      ],
      "metadata": {
        "id": "ByKDd1a33PWB"
      },
      "execution_count": null,
      "outputs": []
    },
    {
      "cell_type": "markdown",
      "source": [
        "**4. Finally Block (Optional)**\n",
        "\n",
        "This block always runs, whether an exception occurred or not — useful for cleanup code."
      ],
      "metadata": {
        "id": "Sf2a1jh-3QUn"
      }
    },
    {
      "cell_type": "code",
      "source": [
        "finally:\n",
        "    print(\"Execution completed.\")\n"
      ],
      "metadata": {
        "id": "pjO0EXka3WBL"
      },
      "execution_count": null,
      "outputs": []
    },
    {
      "cell_type": "code",
      "source": [
        "#Full Example\n",
        "try:\n",
        "    num = int(input(\"Enter a number: \"))\n",
        "    result = 10 / num\n",
        "except ZeroDivisionError:\n",
        "    print(\"Cannot divide by zero.\")\n",
        "except ValueError:\n",
        "    print(\"Invalid input. Please enter a number.\")\n",
        "else:\n",
        "    print(f\"Result is {result}\")\n",
        "finally:\n",
        "    print(\"This block runs no matter what.\")\n"
      ],
      "metadata": {
        "colab": {
          "base_uri": "https://localhost:8080/"
        },
        "id": "cCuE5ro13Y8V",
        "outputId": "6c1c0736-6e81-4c47-9370-069f0b4ee82a"
      },
      "execution_count": null,
      "outputs": [
        {
          "output_type": "stream",
          "name": "stdout",
          "text": [
            "Enter a number: 0\n",
            "Cannot divide by zero.\n",
            "This block runs no matter what.\n"
          ]
        }
      ]
    },
    {
      "cell_type": "markdown",
      "source": [
        "**13.Why is memory management important in Python?**\n",
        "\n",
        "ANS:- Memory management is important in Python because it directly affects the performance, efficiency, and stability of your programs. Here's why it matters:\n",
        "\n",
        "**1. Efficient Use of System Resources**\n",
        "\n",
        "Every object created in Python consumes memory.\n",
        "\n",
        "Proper memory management ensures your program uses only the memory it needs, avoiding excessive consumption.\n",
        "\n",
        "**2. Prevents Memory Leaks**\n",
        "\n",
        "Without careful handling, unused objects can accumulate, leading to memory leaks.\n",
        "\n",
        "Python’s garbage collector helps clean up unreferenced objects, keeping memory usage in check.\n",
        "\n",
        "**3. Improves Performance**\n",
        "\n",
        "Efficient memory allocation and deallocation reduce overhead.\n",
        "\n",
        "Python’s memory pooling (via PyMalloc) speeds up object creation for frequently used small objects.\n",
        "\n",
        "**4. Avoids Program Crashes**\n",
        "\n",
        "Poor memory management can lead to out-of-memory errors, causing your program to crash or behave unpredictably.\n",
        "\n",
        "Automatic memory management reduces the chances of such issues.\n",
        "\n",
        "**5. Simplifies Development**\n",
        "\n",
        "Python abstracts away complex memory allocation tasks, allowing developers to focus on writing logic rather than managing memory manually.\n",
        "\n",
        "\n",
        "\n"
      ],
      "metadata": {
        "id": "om-VVMBl3ggQ"
      }
    },
    {
      "cell_type": "markdown",
      "source": [
        "**14.What is the role of try and except in exception handling?**\n",
        "\n",
        "ANS:- The try and except blocks in Python play a central role in exception handling by allowing you to catch and respond to errors without crashing your program.\n",
        "\n",
        "**Role of try Block:**\n",
        "\n",
        "Used to wrap code that might raise an exception.\n",
        "\n",
        "If the code inside the try block executes without error, the except block is skipped.\n",
        "\n",
        "If an error occurs, Python jumps out of the try block immediately and looks for a matching except."
      ],
      "metadata": {
        "id": "kItO3YiE4av2"
      }
    },
    {
      "cell_type": "code",
      "source": [
        "try:\n",
        "    x = int(input(\"Enter a number: \"))\n",
        "    result = 10 / x\n"
      ],
      "metadata": {
        "id": "6rlrBkOf4nEX"
      },
      "execution_count": null,
      "outputs": []
    },
    {
      "cell_type": "markdown",
      "source": [
        "**Role of except Block:**\n",
        "\n",
        "Catches and handles the specific exception raised in the try block.\n",
        "\n",
        "Prevents the program from crashing by providing a response to the error."
      ],
      "metadata": {
        "id": "QzWVoCCA4qxA"
      }
    },
    {
      "cell_type": "code",
      "source": [
        "except ZeroDivisionError:\n",
        "    print(\"You can't divide by zero!\")\n",
        "except ValueError:\n",
        "    print(\"That was not a valid number.\")\n"
      ],
      "metadata": {
        "id": "S5bL_9pa4xui"
      },
      "execution_count": null,
      "outputs": []
    },
    {
      "cell_type": "markdown",
      "source": [
        "**15.How does Python's garbage collection system work?**\n",
        "\n",
        "ANS:- Python’s garbage collection system automatically reclaims memory by identifying and removing objects that are no longer needed by a program. It works primarily through a combination of reference counting and a cyclic garbage collector.\n",
        "\n",
        "**1. Reference Counting (Primary Mechanism)**\n",
        "\n",
        "Every Python object has a reference count, which tracks how many references point to it.\n",
        "\n",
        "When an object’s reference count drops to zero, it is immediately deleted.\n",
        "\n",
        "**2. Cyclic Garbage Collector**\n",
        "\n",
        "Reference counting fails to collect objects involved in reference cycles, where objects reference each other.\n",
        "\n",
        "Python uses a cyclic garbage collector in the gc module to find and clean up these cycles.\n",
        "\n",
        "**3. Generational Garbage Collection**\n",
        "\n",
        "Python’s collector divides objects into three generations:\n",
        "\n",
        "**Gen 0**: newly created objects\n",
        "\n",
        "**Gen 1:** surviving Gen 0 collections\n",
        "\n",
        "**Gen 2:** long-lived objects"
      ],
      "metadata": {
        "id": "ZlhOxWLN4z-d"
      }
    },
    {
      "cell_type": "markdown",
      "source": [
        "**16. What is the purpose of the else block in exception handling?**\n",
        "\n",
        "ANS:- The purpose of the else block in Python’s exception handling is to define a section of code that should run only if no exceptions were raised in the try block.\n",
        "\n",
        "**Key Points:**\n",
        "\n",
        "The else block runs only when the try block is successful — meaning no exceptions occur.\n",
        "\n",
        "It helps separate the error-prone code (in try) from the success-path logic (in else), improving clarity."
      ],
      "metadata": {
        "id": "FKG7R4jV5ayW"
      }
    },
    {
      "cell_type": "code",
      "source": [
        "#Syntax\n",
        "try:\n",
        "    # risky code\n",
        "    result = 10 / 2\n",
        "except ZeroDivisionError:\n",
        "    print(\"Can't divide by zero.\")\n",
        "else:\n",
        "    print(\"Division successful:\", result)\n"
      ],
      "metadata": {
        "id": "1g2aLHbi5z1m"
      },
      "execution_count": null,
      "outputs": []
    },
    {
      "cell_type": "markdown",
      "source": [
        "**17. What are the common logging levels in Python?**\n",
        "\n",
        "ANS:- Python provides a built-in logging module that supports different logging levels to indicate the severity or importance of events in your application. These levels help in filtering and managing log output during development and production.\n",
        "\n",
        "**Common Logging Levels (from lowest to highest severity):**\n",
        "\n",
        "| Level             | Purpose                                                                               |\n",
        "| ----------------- | ------------------------------------------------------------------------------------- |\n",
        "| **DEBUG** (10)    | Detailed information for diagnosing problems. Used during development.                |\n",
        "| **INFO** (20)     | General information about program execution (e.g., startup messages, status updates). |\n",
        "| **WARNING** (30)  | Indicates something unexpected happened, but the program is still running normally.   |\n",
        "| **ERROR** (40)    | A serious problem occurred, likely due to a failed operation.                         |\n",
        "| **CRITICAL** (50) | A very serious error — program may not be able to continue.                           |\n"
      ],
      "metadata": {
        "id": "_cBOzjO955S8"
      }
    },
    {
      "cell_type": "markdown",
      "source": [
        "**18. What is the difference between os.fork() and multiprocessing in Python?**\n",
        "\n",
        "ANS:- The main difference between os.fork() and the multiprocessing module in Python lies in abstraction level, portability, and ease of use. Here's a detailed comparison:\n",
        "\n",
        "**1. os.fork()**\n",
        "\n",
        "Low-level system call to create a child process.\n",
        "\n",
        "The child is a copy of the parent process.\n",
        "\n",
        "Available only on Unix-based systems (Linux, macOS).\n",
        "\n",
        "You must handle communication and synchronization manually (e.g., via pipes or shared memory).\n",
        "\n",
        "**2. multiprocessing Module**\n",
        "\n",
        "High-level interface for process-based parallelism.\n",
        "\n",
        "Works on all major platforms (cross-platform).\n",
        "\n",
        "Offers tools for inter-process communication (IPC) like queues, pipes, shared memory.\n",
        "\n",
        "Safer and easier to use for most use cases.\n",
        "\n",
        "| Feature            | `os.fork()`          | `multiprocessing`   |\n",
        "| ------------------ | -------------------- | ------------------- |\n",
        "| Abstraction Level  | Low-level            | High-level          |\n",
        "| Cross-platform     | ❌ Unix only          | ✅ Yes               |\n",
        "| Process Management | Manual               | Built-in tools      |\n",
        "| IPC Support        | Manual (e.g., pipes) | Queues, Pipes, etc. |\n",
        "| Ease of Use        | Low                  | High                |\n"
      ],
      "metadata": {
        "id": "qtEuTXpj6W5q"
      }
    },
    {
      "cell_type": "markdown",
      "source": [
        "**19. What is the importance of closing a file in Python?**\n",
        "\n",
        "ANS:- Closing a file in Python is very important because it ensures that system resources are properly released and that data is safely written to disk. Here's why it's essential:\n",
        "\n",
        "**1. Flushes Data to Disk**\n",
        "\n",
        "When you write to a file, data is often stored in a buffer first.\n",
        "\n",
        "file.close() flushes this buffer, ensuring that all changes are saved to the file.\n",
        "\n",
        "Without closing, some data might not be written, leading to data loss or corruption.\n",
        "\n",
        "**2. Frees System Resources**\n",
        "\n",
        "Each open file consumes system resources like file descriptors.\n",
        "\n",
        "If too many files remain open, your program may hit the system limit and crash or throw an error.\n",
        "\n",
        "**3. Prevents File Locking Issues**\n",
        "\n",
        "On some systems, open files may be locked for writing or reading.\n",
        "\n",
        "Closing the file releases the lock so other programs or processes can access it.\n",
        "\n",
        "**4. Avoids Unexpected Behavior**\n",
        "\n",
        "Working with a file after it has been written but not closed can cause bugs or inconsistencies in how the file is read or updated."
      ],
      "metadata": {
        "id": "eAnsbQXM67GY"
      }
    },
    {
      "cell_type": "markdown",
      "source": [
        "**20. What is the difference between file.read() and file.readline() in Python?**\n",
        "\n",
        "ANS:- The difference between file.read() and file.readline() in Python lies in how much data they read from a file:\n",
        "\n",
        "**file.read()**\n",
        "\n",
        "Reads the entire file (or a specified number of characters) as a single string.\n",
        "\n",
        "Useful when you want to process the whole content at once.\n",
        "\n",
        "**file.readline()**\n",
        "\n",
        "Reads the file one line at a time.\n",
        "\n",
        "Returns the next line as a string (including the newline character \\n).\n",
        "\n",
        "Useful for iterating through large files line by line without loading the whole file into memory.\n",
        "\n",
        "\n",
        "| Feature      | `file.read()`                | `file.readline()`                 |\n",
        "| ------------ | ---------------------------- | --------------------------------- |\n",
        "| Reads        | Entire file or fixed chars   | One line at a time                |\n",
        "| Return Type  | Single string                | Single line string (with `\\n`)    |\n",
        "| Memory Usage | High (for large files)       | Low (reads line by line)          |\n",
        "| Use Case     | Small/entire file processing | Large files or line-based parsing |\n"
      ],
      "metadata": {
        "id": "14RvnTHr7jEY"
      }
    },
    {
      "cell_type": "markdown",
      "source": [
        "**21.What is the logging module in Python used for?**\n",
        "\n",
        "ANS:- The logging module in Python is used for tracking events that occur during program execution. It provides a flexible framework for recording log messages, which can be helpful for debugging, monitoring, and maintaining your code.\n",
        "\n",
        "**Some key features of the logging module include:**\n",
        "\n",
        "**Log Levels:** It supports different log levels like DEBUG, INFO, WARNING, ERROR, and CRITICAL, allowing you to specify the importance or severity of the messages.\n",
        "\n",
        "**Log Handlers:** You can configure different handlers to control where the log messages are sent. For example, you can send them to the console, a file, or a remote server.\n",
        "\n",
        "**Log Formatting:** You can customize the format of log messages to include details such as timestamps, log levels, and the message content.\n",
        "\n",
        "**Loggers**: A logger is used to create and manage log messages. It provides methods to log messages at different severity levels (e.g., logger.debug(), logger.info(), logger.error())."
      ],
      "metadata": {
        "id": "ff0V__fn7-i-"
      }
    },
    {
      "cell_type": "code",
      "source": [
        "#Example\n",
        "import logging\n",
        "\n",
        "# Set up basic configuration\n",
        "logging.basicConfig(level=logging.DEBUG, format='%(asctime)s - %(levelname)s - %(message)s')\n",
        "\n",
        "# Example log messages\n",
        "logging.debug(\"This is a debug message\")\n",
        "logging.info(\"This is an info message\")\n",
        "logging.warning(\"This is a warning message\")\n",
        "logging.error(\"This is an error message\")\n",
        "logging.critical(\"This is a critical message\")\n"
      ],
      "metadata": {
        "id": "IixZMw8v8o5p"
      },
      "execution_count": null,
      "outputs": []
    },
    {
      "cell_type": "markdown",
      "source": [
        "**22.How can you check if a file is empty before attempting to read its contents?**\n",
        "\n",
        "ANS:- To check if a file is empty before reading its contents, we can use Python's os module to check the file size. Here's a simple approach:\n",
        "\n"
      ],
      "metadata": {
        "id": "LrqykAmwjdfm"
      }
    },
    {
      "cell_type": "code",
      "source": [
        "import os\n",
        "\n",
        "file_path = 'example.txt'\n",
        "\n",
        "if os.path.getsize(file_path) == 0:\n",
        "    print(\"File is empty.\")\n",
        "else:\n",
        "    with open(file_path, 'r') as f:\n",
        "        contents = f.read()\n",
        "        print(contents)\n"
      ],
      "metadata": {
        "id": "ShZe7lKzkZq_"
      },
      "execution_count": null,
      "outputs": []
    },
    {
      "cell_type": "markdown",
      "source": [
        "**23. Write a Python program that writes to a log file when an error occurs during file handling?**\n",
        "\n",
        "ANS:- Here's a simple Python program that attempts to open and read a file. If any file handling error occurs (like FileNotFoundError or PermissionError), it logs the error with a timestamp to a log.txt file:\n"
      ],
      "metadata": {
        "id": "wUdpm67fkdL-"
      }
    },
    {
      "cell_type": "code",
      "source": [
        "import logging\n",
        "from datetime import datetime\n",
        "\n",
        "# Configure logging\n",
        "logging.basicConfig(filename='log.txt', level=logging.ERROR,\n",
        "                    format='%(asctime)s - %(levelname)s - %(message)s')\n",
        "\n",
        "file_path = 'non_existent_file.txt'\n",
        "\n",
        "try:\n",
        "    with open(file_path, 'r') as file:\n",
        "        contents = file.read()\n",
        "        print(contents)\n",
        "except (FileNotFoundError, PermissionError, IOError) as e:\n",
        "    logging.error(f\"Error while handling file '{file_path}': {e}\")\n",
        "    print(\"An error occurred. Check 'log.txt' for details.\")\n"
      ],
      "metadata": {
        "id": "0yKqq2iLlJr5"
      },
      "execution_count": null,
      "outputs": []
    }
  ]
}